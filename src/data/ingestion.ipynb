{
 "cells": [
  {
   "cell_type": "code",
   "execution_count": 20,
   "metadata": {},
   "outputs": [],
   "source": [
    "from langchain.docstore.document import Document\n",
    "from langchain_text_splitters import RecursiveCharacterTextSplitter, Language\n",
    "from langchain_openai import AzureOpenAIEmbeddings\n",
    "from langchain_community.vectorstores import FAISS\n",
    "from dotenv import load_dotenv\n",
    "import os"
   ]
  },
  {
   "cell_type": "code",
   "execution_count": 24,
   "metadata": {},
   "outputs": [
    {
     "data": {
      "text/plain": [
       "True"
      ]
     },
     "execution_count": 24,
     "metadata": {},
     "output_type": "execute_result"
    }
   ],
   "source": [
    "load_dotenv()"
   ]
  },
  {
   "cell_type": "code",
   "execution_count": 33,
   "metadata": {},
   "outputs": [],
   "source": [
    "embeddings = AzureOpenAIEmbeddings(\n",
    "        azure_endpoint=os.getenv('AZURE_OPENAI_EMBEDDING_ENDPOINT'),\n",
    "        api_version=\"2023-05-15\"\n",
    ")"
   ]
  },
  {
   "cell_type": "code",
   "execution_count": 15,
   "metadata": {},
   "outputs": [],
   "source": [
    "def read_file(file_name):\n",
    "    with open(\"markdowns/\"+file_name, 'r') as file:\n",
    "        content= file.read()\n",
    "        document = Document(page_content=content, metadata={\"source\": file_name})\n",
    "\n",
    "    return [document]\n"
   ]
  },
  {
   "cell_type": "code",
   "execution_count": 36,
   "metadata": {},
   "outputs": [],
   "source": [
    "text_splitter = RecursiveCharacterTextSplitter.from_language(\n",
    "        Language.MARKDOWN, chunk_size=5000, chunk_overlap=1000\n",
    "    )"
   ]
  },
  {
   "cell_type": "code",
   "execution_count": 39,
   "metadata": {},
   "outputs": [],
   "source": [
    "def save_vector(file_head):\n",
    "    document = read_file(file_head+\".md\")\n",
    "    docs = text_splitter.split_documents(document)\n",
    "    vector_store = FAISS.from_documents(docs, embeddings)\n",
    "    vector_store.save_local(f\"{file_head}.faiss\")"
   ]
  },
  {
   "cell_type": "code",
   "execution_count": 40,
   "metadata": {},
   "outputs": [],
   "source": [
    "for f in os.listdir(\"markdowns\"):\n",
    "    if f.endswith(\".md\"):\n",
    "        save_vector(f[:-3])"
   ]
  },
  {
   "cell_type": "code",
   "execution_count": 43,
   "metadata": {},
   "outputs": [],
   "source": [
    "vector_store = FAISS.load_local(\n",
    "    \"vector_stores/section2.faiss\",\n",
    "    embeddings,\n",
    "    allow_dangerous_deserialization=True\n",
    "    )"
   ]
  },
  {
   "cell_type": "code",
   "execution_count": 45,
   "metadata": {},
   "outputs": [
    {
     "data": {
      "text/plain": [
       "[Document(id='d5706fd3-a8e9-415f-8bf8-5c46c38a4894', metadata={'source': 'section2.md'}, page_content='**2.1.2 – 2.2’de tanımlanan dört farklı deprem yer hareketi düzeyi için deprem verileri,**\\n22/01/2018 tarih ve 2018/11275 sayılı Bakanlar Kurulu kararı ile yürürlüğe konulan Türkiye\\n_Deprem Tehlike Haritaları ile tanımlanmıştır. Bu haritalara https://tdth.afad.gov.tr/ adresli_\\ninternet sitesinden erişilebilir.\\n\\n**2.2. DEPREM YER HAREKETİ DÜZEYLERİ**\\n\\nBu Yönetmelik kapsamında aşağıda belirtilen dört farklı deprem yer hareketi düzeyi\\ntanımlanmıştır.\\n\\n**2.2.1. Deprem Yer Hareketi Düzeyi-1 (DD-1)**\\n\\nDD-1 Deprem Yer Hareketi, spektral büyüklüklerin 50 yılda aşılma olasılığının %2 ve buna\\nkarşı gelen tekrarlanma periyodunun 2475 yıl olduğu _çok seyrek deprem yer hareketini_\\nnitelemektedir. Bu deprem yer hareketi, gözönüne alınan en büyük deprem yer hareketi olarak\\nda adlandırılmaktadır.\\n\\n**2.2.2. Deprem Yer Hareketi Düzeyi-2 (DD-2)**\\n\\nDD-2 Deprem Yer Hareketi, spektral büyüklüklerin 50 yılda aşılma olasılığının %10 ve buna\\nkarşı gelen tekrarlanma periyodunun 475 yıl olduğu _seyrek deprem yer hareketini_\\nnitelemektedir. Bu deprem yer hareketi, _standart tasarım deprem yer hareketi olarak da_\\nadlandırılmaktadır.\\n\\n**2.2.3. Deprem Yer Hareketi Düzeyi-3 (DD-3)**\\n\\nDD-3 Deprem Yer Hareketi, spektral büyüklüklerin 50 yılda aşılma olasılığının %50 ve buna\\nkarşı gelen tekrarlanma periyodunun 72 yıl olduğu sık deprem yer hareketini nitelemektedir.\\n\\n**2.2.4. Deprem Yer Hareketi Düzeyi-4 (DD-4)**\\n\\nDD-4 Deprem Yer Hareketi, spektral büyüklüklerin 50 yılda aşılma olasılığının %68 (30 yılda\\naşılma olasılığı %50) ve buna karşı gelen tekrarlanma periyodunun 43 yıl olduğu çok sık deprem\\nyer hareketini nitelemektedir. Bu deprem yer hareketi, servis deprem yer hareketi olarak da\\nadlandırılmaktadır.\\n\\n**2.3. STANDART DEPREM YER HAREKETİ SPEKTRUMLARI**\\n\\n**2.3.1. Tanım**\\n\\nDeprem yer hareketi spektrumları, belirli bir deprem yer hareketi düzeyi esas alınarak %5\\nsönüm oranı için, **2.3.2, 2.3.3, 2.3.4** ve 2.3.5’te açıklandığı üzere _harita spektral ivme_\\n_katsayıları’na ve yerel zemin etki katsayıları’na bağlı olarak standart biçimde veya 2.4.1’e göre_\\n_sahaya özel deprem tehlikesi analizleri ile özel olarak tanımlanırlar._\\n\\n**2.3.2. Harita Spektral İvme Katsayıları ve Tasarım Spektral İvme Katsayıları**\\n\\n**2.3.2.1 –** Boyutsuz _harita spektral ivme katsayıları, 2.2’de belirtilen dört farklı deprem yer_\\nhareketi düzeyi için Türkiye _Deprem Tehlike Haritaları kapsamında tanımlanmıştır:_\\n\\n**(a) Kısa periyot harita spektral ivme katsayısı** _SS_\\n\\n7'),\n",
       " Document(id='dc5f0fe0-9ee3-4060-a1a9-8ad362efd27f', metadata={'source': 'section2.md'}, page_content='-----\\n\\n**2.3.4.2 – Gözönüne alınan herhangi bir deprem yer hareketi düzeyi için yatay elastik tasarım**\\n_yerdeğiştirme spektrumu’nun_ ordinatları olan yatay elastik tasarım spektral yerdeğiştirmeleri\\n\\n_Sde_ [( )]T, doğal titreşim periyoduna bağlı olarak metre [m] cinsinden Denk.(2.4) ile tanımlanır\\n**(Şekil 2.2):**\\n\\n\\n_T_ 2\\n_Sde_ ( )T = 4π2 _g Sae_ ( )T\\n\\n**Şekil 2.2**\\n\\n**2.3.5. Düşey Elastik Tasarım Spektrumu**\\n\\n\\n**(2.4)**\\n\\n\\nGözönüne alınan herhangi bir deprem yer hareketi düzeyi için _düşey elastik tasarım ivme_\\n_spektrumu’nun_ ordinatları olan düşey elastik tasarım spektral ivmeleri _SaeD_ [( )]T, yatay deprem\\nyer hareketi için tanımlanan kısa periyot tasarım spektral ivme katsayısına ve doğal titreşim\\nperiyoduna bağlı olarak yerçekimi ivmesi [g] cinsinden Denk.(2.5) ile tanımlanır (Şekil 2.3):\\n\\n\\n\\uf8eb _T_ \\uf8f6\\n\\n_SaeD_ ( )T = \\uf8ec 0.32 + 0.48 \\uf8f7 _SDS_ (0 ≤ _T_ ≤ _TAD)_\\n\\n\\uf8ed _TAD_ \\uf8f8\\n\\n_SaeD_ ( )T = 0.8 _SDS_ (TAD ≤ _T_ ≤ _TBD)_\\n\\n_SaeD_ ( )T = 0.8 _SDS_ _TBD_ (TBD ≤ _T_ ≤ _TLD)_\\n_T_\\n\\n\\n**(2.5)**\\n\\n\\n**Denk.(2.5)’te yer alan** _TAD_ ve _TBD_ düşey spektrum _köşe periyotları ile_ _TLD_ periyodu\\n**Denk.(2.6)’da** verilmiştir.\\n\\n_TAD_ = _TA_ ;   TBD = _TB_ ;   TLD = _TL_ **(2.6)**\\n3 3 2\\n\\n10\\n\\n\\n-----\\n\\n**Şekil 2.3**\\n\\n**2.4. SAHAYA ÖZEL DEPREM YER HAREKETİ SPEKTRUMU**\\n\\n**2.4.1. Sahaya Özel Elastik İvme Spektrumu**\\n\\n**2.4.1.1 – Bazı özel durumlarda, sahaya özel deprem tehlikesi analizleri ile sahaya özel deprem**\\n_yer hareketi spektrumları tanımlanabilir. Bu tür spektrumlar proje mühendisinin tercihine bağlı_\\nolarak her durumda kullanılabilir.\\n\\n**2.4.1.2 – Sahaya özel deprem** _yer hareketi spektrumlarının ordinatları, hiçbir zaman 2.3.4 veya_\\n**2.3.5’te tanımlanan tasarım spektrumu ordinatlarının % 90’ından daha küçük olmayacaktır.**\\n\\n**2.4.2. Sahaya Özel Zemin Davranış Analizleri**\\n\\n**16.4’e göre yapılan yerel zemin sınıflandırmasında ZF sınıfı olarak tanımlanan zeminlerde**\\n**16.5’e göre** _sahaya özel zemin davranış analizleri yapılacaktır. Bu tür analizler, proje_\\nmühendisinin tercihine bağlı olarak diğer sınıflardaki zeminlerde de yapılabilir.\\n\\n**2.5. ZAMAN TANIM ALANINDA DEPREM YER HAREKETLERİNİN**\\n**TANIMLANMASI**\\n\\nBu yönetmeliğe göre bina taşıyıcı sistemlerinin zaman tanım alanında bir veya iki boyutlu ve\\nüç boyutlu deprem hesabında gerekli deprem yer hareketlerinin tanımlanması için kullanılacak\\ndeprem kayıtlarının seçimi ve basit ölçeklendirme yöntemi ile ölçeklendirilmesi veya spektral\\n_uyuşum sağlanacak şekilde dönüştürülmesi için uygulanması gerekli kurallar_ **2.5.1, 2.5.2** ve\\n**2.5.3’te tanımlanmıştır.**\\n\\n**2.5.1. Deprem Kayıtlarının Seçimi**\\n\\n**2.5.1.1 – Bina taşıyıcı sistemlerinin zaman tanım alanında deprem hesabında kullanılacak**\\ndeprem kayıtlarının seçimi, tasarıma esas deprem yer hareketi düzeyi ile uyumlu deprem\\nbüyüklükleri, fay uzaklıkları, kaynak mekanizmaları ve yerel zemin koşulları dikkate alınarak\\nyapılacaktır. Binanın bulunduğu bölgede tasarıma esas deprem yer hareketi düzeyi ile uyumlu\\ngeçmiş deprem kayıtlarının mevcut olması durumunda öncelikle bu kayıtlar kullanılacaktır.\\n\\n11'),\n",
       " Document(id='74332519-15b5-465f-80fa-8cbe344278e8', metadata={'source': 'section2.md'}, page_content='-----\\n\\nSahaya özel deprem tehlikesine en fazla katkıda bulunan depremlere ait büyüklük ve fay\\nuzaklığı bilgilerinin belirlenmesi için deprem tehlikesi _ayrıştırma_ işleminden yararlanılabilir.\\n\\n**2.5.1.2 – Yeterli sayı veya nitelikte deprem kaydı seçiminin yapılamadığı durumlarda, zaman**\\ntanım alanında benzeştirilmiş yer hareketi kayıtları kullanılabilir. Bu tür kayıtların kullanılması\\ndurumunda, binanın bulunduğu sahanın sismik kaynak, dalga yayılım ve yerel zemin özellikleri\\ngöz önüne alınacaktır. Benzeştirme için kullanılacak model parametrelerinin, söz konusu\\nbölgede meydana gelmiş depremlerde kaydedilmiş gerçek deprem kayıtları ile uyumlu olduğu\\ngösterilecektir.\\n\\n**2.5.1.3 – Bir veya iki boyutlu hesap için seçilecek deprem kayıtları’nın ve üç boyutlu hesap**\\niçin seçilecek _deprem kaydı takımları’nın sayısı en az onbir olacaktır. Aynı depremden_\\nseçilecek kayıt veya kayıt takımı sayısı üçü geçmeyecektir.\\n\\n**2.5.2. Deprem Kayıtlarının Basit Ölçeklendirme Yöntemi ile Ölçeklendirilmesi**\\n\\n**2.5.2.1 – 16.5.2’ye veya 16.10’a göre yapılacak zemin davranış analizleri dışında, zaman tanım**\\nalanında hesapta kullanılacak deprem yer hareketleri, seçilen deprem kayıtlarından _basit_\\n_ölçeklendirme yöntemi ile aşağıdaki şekilde elde edilebilir:_\\n\\n**(a) Bir veya iki boyutlu hesap için seçilen tüm kayıtlara ait spektrumların ortalamasının** 0.2Tp\\n\\nve 1.5Tp periyotları arasındaki genliklerinin, **2.3.4 veya** **2.4.1’e göre tanımlanan tasarım**\\nspektrumunun aynı periyot aralığındaki genliklerinden daha küçük olmaması kuralına göre,\\ndeprem yer hareketlerinin genlikleri ölçeklendirilecektir.\\n\\n**(b) Üç boyutlu hesap için seçilen her bir deprem kaydı takımının iki yatay bileşenine ait**\\nspektrumların kareleri toplamının karekökü alınarak bileşke yatay spektrum elde edilecektir.\\nSeçilen tüm kayıtlara ait bileşke spektrumların ortalamasının 0.2Tp ve 1.5Tp periyotları\\narasındaki genliklerinin, 2.3.4 veya 2.4.1’e göre tanımlanan tasarım spektrumunun aynı periyot\\naralığındaki genliklerine oranının 1.3’ten daha küçük olmaması kuralına göre deprem yer\\nhareketi bileşenlerinin genlikleri ölçeklendirilecektir. Bu periyot aralığı yalıtımlı binalar için\\ndeğişebilir (Bkz.14.14.4.2). Her iki yatay bileşenin ölçeklendirilmesi aynı ölçek katsayıları ile\\nyapılacaktır.\\n\\n**2.5.2.2 – Mevcut deprem verileri ile bina özelliklerinin gerekli kılması ve sahaya özel deprem**\\nyer hareketi spektrumu belirlenmesi durumunda, binanın belirli sayıda titreşim periyodu ile\\nilişkilendirilen koşullandırılmış ortalama _spektrumlar’dan yararlanılarak, deprem kayıtlarının_\\nanaliz sonuçlarında daha az saçılmayı sağlayacak şekilde seçilerek ölçeklendirilmesi yoluna\\ngidilebilir.\\n\\n**2.5.3. Deprem Kayıtlarının Spektral Uyuşum Sağlanacak Şekilde Dönüştürülmesi**\\n\\n**16.5.2’ye veya 16.10’a göre yapılacak zemin davranış analizlerinde veya zaman tanım alanında**\\nyapılacak diğer hesaplarda kullanılmak üzere deprem yer hareketleri, seçilen deprem\\nkayıtlarının **2.3.4 veya** **2.4.1’e göre tanımlanan tasarım spektrumuna** _spektral uyuşum_\\nsağlanacak şekilde dönüştürülmesi ile de elde edilebilir. Dönüştürülen deprem yer\\nhareketlerinin spektrumlarının ortalamaları, tüm periyotlar için tasarım spektrumu\\nordinatlarından daha küçük olmayacaktır.\\n\\n12\\n\\n\\n-----\\n\\n**2.6. BİNALARA İVME KAYITÇILARININ YERLEŞTİRİLMESİ**\\n\\nAfet ve Acil Durum Yönetimi Başkanlığı tarafından uygun görülmesi durumunda, Başkanlık\\ntarafından veya Başkanlık koordinasyonunda diğer kamu kurumları veya üniversite\\nkuruluşlarınca kuvvetli deprem hareketinin ölçülmesi amacı ile kamu, özel ve tüzel kişilere ait\\nbinalara, diğer yapılara veya açık alanlarına ivme kayıtçılarının yerleştirilmesine izin verilecek,\\nbina veya yapı sahipleri ya da işletmecileri bunların korunmasından sorumlu olacaktır.\\n\\n13\\n\\n\\n-----'),\n",
       " Document(id='b5cf92fd-18ac-4df7-89e5-a773dd51377c', metadata={'source': 'section2.md'}, page_content='-----\\n\\n**(b) 1.0 saniye periyot için harita spektral ivme katsayısı** _[S]1_\\n\\nBirbirine dik iki yatay doğrultudaki deprem etkilerinin geometrik ortalamasına karşı gelen\\n_harita spektral ivme katsayıları, belirli bir deprem yer hareketi düzeyi için referans zemin_\\nkoşulu [ (VS 30) =760 m/s] esas alınarak %5 sönüm oranı için _harita spektral ivmeleri’nin_\\nyerçekimi ivmesine bölünmesi ile boyutsuz katsayılar olarak tanımlanmıştır.\\n\\n**2.3.2.2 – 2.3.2.1’de tanımlanan harita spektral ivme katsayıları** _SS ve_ _S1, aşağıdaki şekilde_\\n_tasarım spektral ivme katsayıları_ _SDS_ ve _SD1_ ’e dönüştürülür:\\n\\n_SDS_ = _S FS_ S\\n\\n**(2.1)**\\n\\n_SD1_ = _S F1_ 1\\n\\n\\nBurada _FS ve_ _F1_ **2.3.3’te tanımlanan yerel zemin etki katsayıları’nı göstermektedir.**\\n\\n**2.3.2.3 –** Yatay ve düşey _elastik tasarım spektrumları,_ **Denk.(2.1) ile elde edilen** _tasarım_\\n_spektral ivme katsayıları’ndan yararlanılarak, sırası ile, 2.3.4 ve 2.3.5’te tanımlanmıştır._\\n\\n**2.3.3. Yerel Zemin Etki Katsayıları**\\n\\n**2.3.3.1 – 16.4’te tanımlanan yerel zemin sınıfları’na bağlı olarak yerel zemin etki katsayıları**\\n\\n_FS ve_ _[F]1[, sırası ile, ][Tablo 2.1][ ve ][Tablo 2.2][’de verilmiştir. Tablolarda harita spektral ivme ]_\\nkatsayılarının ara değerleri için doğrusal enterpolasyon yapılabilir.\\n\\n**Tablo 2.1 – Kısa periyot bölgesi için Yerel Zemin Etki Katsayıları**\\n\\nYerel Kısa periyot bölgesi için Yerel Zemin Etki Katsayısı _FS_\\nZemin\\nSınıfı _SS ≤_ 0.25 _S =S_ 0.50 _S =S_ 0.75 _SS =_ 1.00 _SS =_ 1.25 _SS ≥_ 1.50\\n\\nZA 0.8 0.8 0.8 0.8 0.8 0.8\\n\\nZB 0.9 0.9 0.9 0.9 0.9 0.9\\n\\nZC 1.3 1.3 1.2 1.2 1.2 1.2\\n\\nZD 1.6 1.4 1.2 1.1 1.0 1.0\\n\\nZE 2.4 1.7 1.3 1.1 0.9 0.8\\n\\nZF _Sahaya özel zemin davranış analizi yapılacaktır (Bkz.16.5)._\\n\\n**Tablo 2.2 – 1.0 saniye periyot için Yerel Zemin Etki Katsayıları**\\n\\nYerel 1.0 saniye periyot için Yerel _Zemin Etki Katsayısı_ _[F]1_\\nZemin\\nSınıfı _S1 ≤_ 0.10 _S1 =_ 0.20 _S1 =_ 0.30 _S1 =_ 0.40 _S1 =_ 0.50 _S1 ≥_ 0.60\\n\\nZA 0.8 0.8 0.8 0.8 0.8 0.8\\n\\nZB 0.8 0.8 0.8 0.8 0.8 0.8\\n\\nZC 1.5 1.5 1.5 1.5 1.5 1.4\\n\\nZD 2.4 2.2 2.0 1.9 1.8 1.7\\n\\nZE 4.2 3.3 2.8 2.4 2.2 2.0\\n\\nZF _Sahaya özel zemin davranış analizi yapılacaktır (Bkz.16.5)._\\n\\n8\\n\\n|Yerel Zemin Sınıfı|Kısa periyot bölgesi için Yerel Zemin Etki Katsayısı F S|Col3|Col4|Col5|Col6|Col7|\\n|---|---|---|---|---|---|---|\\n||S ≤0.25 S|S =0.50 S|S =0.75 S|S =1.00 S|S =1.25 S|S ≥1.50 S|\\n|ZA|0.8|0.8|0.8|0.8|0.8|0.8|\\n|ZB|0.9|0.9|0.9|0.9|0.9|0.9|\\n|ZC|1.3|1.3|1.2|1.2|1.2|1.2|\\n|ZD|1.6|1.4|1.2|1.1|1.0|1.0|\\n|ZE|2.4|1.7|1.3|1.1|0.9|0.8|\\n|ZF|Sahaya özel zemin davranış analizi yapılacaktır (Bkz.16.5).||||||\\n\\n|Yerel Zemin Sınıfı|1.0 saniye periyot için Yerel Zemin Etki Katsayısı F 1|Col3|Col4|Col5|Col6|Col7|\\n|---|---|---|---|---|---|---|\\n||S ≤0.10 1|S =0.20 1|S =0.30 1|S =0.40 1|S =0.50 1|S ≥0.60 1|\\n|ZA|0.8|0.8|0.8|0.8|0.8|0.8|\\n|ZB|0.8|0.8|0.8|0.8|0.8|0.8|\\n|ZC|1.5|1.5|1.5|1.5|1.5|1.4|\\n|ZD|2.4|2.2|2.0|1.9|1.8|1.7|\\n|ZE|4.2|3.3|2.8|2.4|2.2|2.0|\\n|ZF|Sahaya özel zemin davranış analizi yapılacaktır (Bkz.16.5).||||||\\n\\n\\n-----\\n\\n**2.3.3.2 – Tablo 2.1** ve/veya **Tablo 2.2’ye göre ZF yerel zemin sınıfına giren zeminler için**\\nsahaya özel zemin davranış analizleri **16.5’e göre yapılacaktır.**\\n\\n**2.3.4. Yatay Elastik Tasarım Spektrumu**\\n\\n**2.3.4.1 – Gözönüne alınan herhangi bir deprem yer hareketi düzeyi için yatay elastik tasarım**\\n_ivme spektrumu’nun_ ordinatları olan _yatay elastik tasarım spektral ivmeleri_ _Sae_ [( )]T, doğal\\ntitreşim periyoduna bağlı olarak yerçekimi ivmesi [g] cinsinden Denk.(2.2)’de tanımlanmıştır\\n(Şekil 2.1):\\n\\n\\n\\uf8eb _T_ \\uf8f6\\n\\n_Sae_ ( )T = \\uf8ec 0.4 + 0.6 \\uf8f7 _SDS_ (0 ≤ _T_ ≤ _TA_ )\\n\\n\\uf8ed _TA_ \\uf8f8\\n\\n_Sae_ ( )T = _SDS_ (TA ≤ _T_ ≤ _TB_ )\\n\\n_Sae_ ( )T = _SD1_ (TB ≤ _T_ ≤ _TL_ )\\n_T_\\n_Sae_ ( )T = _SD1T_ 2TL (TL ≤ _T_ )\\n\\n\\n**(2.2)**\\n\\n\\nBurada _SDS_ ve _SD1_ **2.3.2.2’de tanımlanan tasarım spektral ivme katsayıları’nı,** _T ise doğal_\\ntitreşim periyodunu göstermektedir. Yatay tasarım spektrumu köşe periyotları _TA ve_ _TB_\\n**Denk.(2.3) ile** _SDS_ ve _SD1_ ’e bağlı olarak tanımlanır:\\n\\n_TA_ = 0.2 _SD1_ ;    TB = _SD1_ **(2.3)**\\n_SDS_ _SDS_\\n\\n_Sabit yerdeğiştirme bölgesine geçiş periyodu_ _TL = 6 s alınacaktır._\\n\\n**Şekil 2.1**\\n\\n9')]"
      ]
     },
     "execution_count": 45,
     "metadata": {},
     "output_type": "execute_result"
    }
   ],
   "source": [
    "vector_store.search(\"Deprem yer hareketi düzeyi\", \"similarity\")"
   ]
  },
  {
   "cell_type": "code",
   "execution_count": 1,
   "metadata": {},
   "outputs": [],
   "source": [
    "def remove_empty_rows(input_file, output_file):\n",
    "    try:\n",
    "        # Open the input file for reading\n",
    "        with open(input_file, 'r', encoding='utf-8') as infile:\n",
    "            # Read all lines and filter out empty rows\n",
    "            lines = infile.readlines()\n",
    "            non_empty_lines = [line for line in lines if line.strip()]\n",
    "\n",
    "        # Write the non-empty lines to the output file\n",
    "        with open(output_file, 'w', encoding='utf-8') as outfile:\n",
    "            outfile.writelines(non_empty_lines)\n",
    "\n",
    "        print(f\"Empty rows have been removed. Output written to '{output_file}'.\")\n",
    "    except Exception as e:\n",
    "        print(f\"An error occurred: {e}\")"
   ]
  },
  {
   "cell_type": "code",
   "execution_count": 2,
   "metadata": {},
   "outputs": [
    {
     "name": "stdout",
     "output_type": "stream",
     "text": [
      "Empty rows have been removed. Output written to 'contents_cleaned.md'.\n"
     ]
    }
   ],
   "source": [
    "input_file = \"contents.md\"\n",
    "output_file = \"contents_cleaned.md\"\n",
    "\n",
    "remove_empty_rows(input_file, output_file)"
   ]
  },
  {
   "cell_type": "code",
   "execution_count": null,
   "metadata": {},
   "outputs": [],
   "source": []
  }
 ],
 "metadata": {
  "kernelspec": {
   "display_name": "GeoBot-X2R0ZhNa",
   "language": "python",
   "name": "python3"
  },
  "language_info": {
   "codemirror_mode": {
    "name": "ipython",
    "version": 3
   },
   "file_extension": ".py",
   "mimetype": "text/x-python",
   "name": "python",
   "nbconvert_exporter": "python",
   "pygments_lexer": "ipython3",
   "version": "3.12.0"
  }
 },
 "nbformat": 4,
 "nbformat_minor": 2
}
