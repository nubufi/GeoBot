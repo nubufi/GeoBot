{
 "cells": [
  {
   "cell_type": "code",
   "execution_count": 3,
   "metadata": {},
   "outputs": [],
   "source": [
    "from langchain.docstore.document import Document\n",
    "from langchain_text_splitters import RecursiveCharacterTextSplitter, Language\n",
    "from langchain_openai import AzureOpenAIEmbeddings\n",
    "from langchain_community.vectorstores import FAISS\n",
    "from dotenv import load_dotenv\n",
    "import os\n",
    "\n",
    "load_dotenv()\n",
    "\n",
    "embeddings = AzureOpenAIEmbeddings(\n",
    "        azure_endpoint=os.getenv('AZURE_OPENAI_EMBEDDING_ENDPOINT'),\n",
    "        api_version=\"2023-05-15\"\n",
    ")\n"
   ]
  },
  {
   "cell_type": "code",
   "execution_count": 7,
   "metadata": {},
   "outputs": [
    {
     "name": "stdout",
     "output_type": "stream",
     "text": [
      "['contents.md', 'vector_stores', 'ingestion.py', 'test.ipynb', 'markdowns', 'contents_summary.md']\n"
     ]
    }
   ],
   "source": [
    "print(os.listdir())"
   ]
  },
  {
   "cell_type": "code",
   "execution_count": 9,
   "metadata": {},
   "outputs": [],
   "source": [
    "vs = FAISS.load_local(\"vector_stores/tbdy/section2.faiss\", embeddings,allow_dangerous_deserialization=True)"
   ]
  },
  {
   "cell_type": "code",
   "execution_count": 20,
   "metadata": {},
   "outputs": [],
   "source": [
    "docs = vs.search(\"2.5.1\",search_type=\"mmr\")"
   ]
  },
  {
   "cell_type": "code",
   "execution_count": 27,
   "metadata": {},
   "outputs": [
    {
     "data": {
      "text/plain": [
       "True"
      ]
     },
     "execution_count": 27,
     "metadata": {},
     "output_type": "execute_result"
    }
   ],
   "source": [
    "\"2.5.1\" in docs[3].page_content"
   ]
  },
  {
   "cell_type": "code",
   "execution_count": 23,
   "metadata": {},
   "outputs": [
    {
     "name": "stdout",
     "output_type": "stream",
     "text": [
      "-----\n",
      "\n",
      "**(b) 1.0 saniye periyot için harita spektral ivme katsayısı** _[S]1_\n",
      "\n",
      "Birbirine dik iki yatay doğrultudaki deprem etkilerinin geometrik ortalamasına karşı gelen\n",
      "_harita spektral ivme katsayıları, belirli bir deprem yer hareketi düzeyi için referans zemin_\n",
      "koşulu [ (VS 30) =760 m/s] esas alınarak %5 sönüm oranı için _harita spektral ivmeleri’nin_\n",
      "yerçekimi ivmesine bölünmesi ile boyutsuz katsayılar olarak tanımlanmıştır.\n",
      "\n",
      "**2.3.2.2 – 2.3.2.1’de tanımlanan harita spektral ivme katsayıları** _SS ve_ _S1, aşağıdaki şekilde_\n",
      "_tasarım spektral ivme katsayıları_ _SDS_ ve _SD1_ ’e dönüştürülür:\n",
      "\n",
      "_SDS_ = _S FS_ S\n",
      "\n",
      "**(2.1)**\n",
      "\n",
      "_SD1_ = _S F1_ 1\n",
      "\n",
      "\n",
      "Burada _FS ve_ _F1_ **2.3.3’te tanımlanan yerel zemin etki katsayıları’nı göstermektedir.**\n",
      "\n",
      "**2.3.2.3 –** Yatay ve düşey _elastik tasarım spektrumları,_ **Denk.(2.1) ile elde edilen** _tasarım_\n",
      "_spektral ivme katsayıları’ndan yararlanılarak, sırası ile, 2.3.4 ve 2.3.5’te tanımlanmıştır._\n",
      "\n",
      "**2.3.3. Yerel Zemin Etki Katsayıları**\n",
      "\n",
      "**2.3.3.1 – 16.4’te tanımlanan yerel zemin sınıfları’na bağlı olarak yerel zemin etki katsayıları**\n",
      "\n",
      "_FS ve_ _[F]1[, sırası ile, ][Tablo 2.1][ ve ][Tablo 2.2][’de verilmiştir. Tablolarda harita spektral ivme ]_\n",
      "katsayılarının ara değerleri için doğrusal enterpolasyon yapılabilir.\n",
      "\n",
      "**Tablo 2.1 – Kısa periyot bölgesi için Yerel Zemin Etki Katsayıları**\n",
      "\n",
      "Yerel Kısa periyot bölgesi için Yerel Zemin Etki Katsayısı _FS_\n",
      "Zemin\n",
      "Sınıfı _SS ≤_ 0.25 _S =S_ 0.50 _S =S_ 0.75 _SS =_ 1.00 _SS =_ 1.25 _SS ≥_ 1.50\n",
      "\n",
      "ZA 0.8 0.8 0.8 0.8 0.8 0.8\n",
      "\n",
      "ZB 0.9 0.9 0.9 0.9 0.9 0.9\n",
      "\n",
      "ZC 1.3 1.3 1.2 1.2 1.2 1.2\n",
      "\n",
      "ZD 1.6 1.4 1.2 1.1 1.0 1.0\n",
      "\n",
      "ZE 2.4 1.7 1.3 1.1 0.9 0.8\n",
      "\n",
      "ZF _Sahaya özel zemin davranış analizi yapılacaktır (Bkz.16.5)._\n",
      "\n",
      "**Tablo 2.2 – 1.0 saniye periyot için Yerel Zemin Etki Katsayıları**\n",
      "\n",
      "Yerel 1.0 saniye periyot için Yerel _Zemin Etki Katsayısı_ _[F]1_\n",
      "Zemin\n",
      "Sınıfı _S1 ≤_ 0.10 _S1 =_ 0.20 _S1 =_ 0.30 _S1 =_ 0.40 _S1 =_ 0.50 _S1 ≥_ 0.60\n",
      "\n",
      "ZA 0.8 0.8 0.8 0.8 0.8 0.8\n",
      "\n",
      "ZB 0.8 0.8 0.8 0.8 0.8 0.8\n",
      "\n",
      "ZC 1.5 1.5 1.5 1.5 1.5 1.4\n",
      "\n",
      "ZD 2.4 2.2 2.0 1.9 1.8 1.7\n",
      "\n",
      "ZE 4.2 3.3 2.8 2.4 2.2 2.0\n",
      "\n",
      "ZF _Sahaya özel zemin davranış analizi yapılacaktır (Bkz.16.5)._\n",
      "\n",
      "8\n",
      "\n",
      "|Yerel Zemin Sınıfı|Kısa periyot bölgesi için Yerel Zemin Etki Katsayısı F S|Col3|Col4|Col5|Col6|Col7|\n",
      "|---|---|---|---|---|---|---|\n",
      "||S ≤0.25 S|S =0.50 S|S =0.75 S|S =1.00 S|S =1.25 S|S ≥1.50 S|\n",
      "|ZA|0.8|0.8|0.8|0.8|0.8|0.8|\n",
      "|ZB|0.9|0.9|0.9|0.9|0.9|0.9|\n",
      "|ZC|1.3|1.3|1.2|1.2|1.2|1.2|\n",
      "|ZD|1.6|1.4|1.2|1.1|1.0|1.0|\n",
      "|ZE|2.4|1.7|1.3|1.1|0.9|0.8|\n",
      "|ZF|Sahaya özel zemin davranış analizi yapılacaktır (Bkz.16.5).||||||\n",
      "\n",
      "|Yerel Zemin Sınıfı|1.0 saniye periyot için Yerel Zemin Etki Katsayısı F 1|Col3|Col4|Col5|Col6|Col7|\n",
      "|---|---|---|---|---|---|---|\n",
      "||S ≤0.10 1|S =0.20 1|S =0.30 1|S =0.40 1|S =0.50 1|S ≥0.60 1|\n",
      "|ZA|0.8|0.8|0.8|0.8|0.8|0.8|\n",
      "|ZB|0.8|0.8|0.8|0.8|0.8|0.8|\n",
      "|ZC|1.5|1.5|1.5|1.5|1.5|1.4|\n",
      "|ZD|2.4|2.2|2.0|1.9|1.8|1.7|\n",
      "|ZE|4.2|3.3|2.8|2.4|2.2|2.0|\n",
      "|ZF|Sahaya özel zemin davranış analizi yapılacaktır (Bkz.16.5).||||||\n",
      "\n",
      "\n",
      "-----\n",
      "\n",
      "**2.3.3.2 – Tablo 2.1** ve/veya **Tablo 2.2’ye göre ZF yerel zemin sınıfına giren zeminler için**\n",
      "sahaya özel zemin davranış analizleri **16.5’e göre yapılacaktır.**\n",
      "\n",
      "**2.3.4. Yatay Elastik Tasarım Spektrumu**\n",
      "\n",
      "**2.3.4.1 – Gözönüne alınan herhangi bir deprem yer hareketi düzeyi için yatay elastik tasarım**\n",
      "_ivme spektrumu’nun_ ordinatları olan _yatay elastik tasarım spektral ivmeleri_ _Sae_ [( )]T, doğal\n",
      "titreşim periyoduna bağlı olarak yerçekimi ivmesi [g] cinsinden Denk.(2.2)’de tanımlanmıştır\n",
      "(Şekil 2.1):\n",
      "\n",
      "\n",
      " _T_ \n",
      "\n",
      "_Sae_ ( )T =  0.4 + 0.6  _SDS_ (0 ≤ _T_ ≤ _TA_ )\n",
      "\n",
      " _TA_ \n",
      "\n",
      "_Sae_ ( )T = _SDS_ (TA ≤ _T_ ≤ _TB_ )\n",
      "\n",
      "_Sae_ ( )T = _SD1_ (TB ≤ _T_ ≤ _TL_ )\n",
      "_T_\n",
      "_Sae_ ( )T = _SD1T_ 2TL (TL ≤ _T_ )\n",
      "\n",
      "\n",
      "**(2.2)**\n",
      "\n",
      "\n",
      "Burada _SDS_ ve _SD1_ **2.3.2.2’de tanımlanan tasarım spektral ivme katsayıları’nı,** _T ise doğal_\n",
      "titreşim periyodunu göstermektedir. Yatay tasarım spektrumu köşe periyotları _TA ve_ _TB_\n",
      "**Denk.(2.3) ile** _SDS_ ve _SD1_ ’e bağlı olarak tanımlanır:\n",
      "\n",
      "_TA_ = 0.2 _SD1_ ;    TB = _SD1_ **(2.3)**\n",
      "_SDS_ _SDS_\n",
      "\n",
      "_Sabit yerdeğiştirme bölgesine geçiş periyodu_ _TL = 6 s alınacaktır._\n",
      "\n",
      "**Şekil 2.1**\n",
      "\n",
      "9\n"
     ]
    }
   ],
   "source": [
    "print(docs[1].page_content)"
   ]
  },
  {
   "cell_type": "code",
   "execution_count": null,
   "metadata": {},
   "outputs": [],
   "source": []
  }
 ],
 "metadata": {
  "kernelspec": {
   "display_name": "GeoBot-DFpdT8TE",
   "language": "python",
   "name": "python3"
  },
  "language_info": {
   "codemirror_mode": {
    "name": "ipython",
    "version": 3
   },
   "file_extension": ".py",
   "mimetype": "text/x-python",
   "name": "python",
   "nbconvert_exporter": "python",
   "pygments_lexer": "ipython3",
   "version": "3.12.0"
  }
 },
 "nbformat": 4,
 "nbformat_minor": 2
}
